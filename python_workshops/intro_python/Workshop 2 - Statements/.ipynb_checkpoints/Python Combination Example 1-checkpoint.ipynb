{
 "cells": [
  {
   "cell_type": "code",
   "execution_count": 20,
   "metadata": {},
   "outputs": [],
   "source": [
    "def studentName():\n",
    "    print('Welcome to the Python course. We want to record down student names to record down who is attending.')\n",
    "    studentInput = input('Enter in your first name, it must be a capital letter.: ')\n",
    "    \n",
    "    # print(studentInput[0:1]) # this takes a substring of the string inputted, we only want to assess the first\n",
    "    \n",
    "    while studentInput[0:1].islower():\n",
    "        studentInput = input('Please enter your first name with a capital letter: ')\n",
    "\n",
    "    print('You entered in the name:', studentInput)\n",
    "\n",
    "    if len(studentInput) > 1:\n",
    "        print('You have a name that is longer than one character. The characters are:', end = ' ')\n",
    "        for x in studentInput:\n",
    "            print(x, end = ' ')\n",
    "    else:\n",
    "        print(f\"You only have one letter in your name. That's pretty unique, {studentInput}!\", end='\\n\\n')"
   ]
  },
  {
   "cell_type": "code",
   "execution_count": 21,
   "metadata": {},
   "outputs": [
    {
     "name": "stdout",
     "output_type": "stream",
     "text": [
      "Welcome to the Python course. We want to record down student names to record down who is attending.\n",
      "Enter in your first name, it must be a capital letter.: s\n",
      "Please enter your first name with a capital letter: S\n",
      "You entered in the name: S\n",
      "You only have one letter in your name. That's pretty unique, S!\n",
      "\n",
      "Welcome to the Python course. We want to record down student names to record down who is attending.\n",
      "Enter in your first name, it must be a capital letter.: S\n",
      "You entered in the name: S\n",
      "You only have one letter in your name. That's pretty unique, S!\n",
      "\n",
      "Welcome to the Python course. We want to record down student names to record down who is attending.\n",
      "Enter in your first name, it must be a capital letter.: S\n",
      "You entered in the name: S\n",
      "You only have one letter in your name. That's pretty unique, S!\n",
      "\n",
      "Welcome to the Python course. We want to record down student names to record down who is attending.\n",
      "Enter in your first name, it must be a capital letter.: S\n",
      "You entered in the name: S\n",
      "You only have one letter in your name. That's pretty unique, S!\n",
      "\n",
      "Welcome to the Python course. We want to record down student names to record down who is attending.\n",
      "Enter in your first name, it must be a capital letter.: S\n",
      "You entered in the name: S\n",
      "You only have one letter in your name. That's pretty unique, S!\n",
      "\n"
     ]
    }
   ],
   "source": [
    "for x in range(5):\n",
    "    studentName()"
   ]
  }
 ],
 "metadata": {
  "kernelspec": {
   "display_name": "Python 3",
   "language": "python",
   "name": "python3"
  },
  "language_info": {
   "codemirror_mode": {
    "name": "ipython",
    "version": 3
   },
   "file_extension": ".py",
   "mimetype": "text/x-python",
   "name": "python",
   "nbconvert_exporter": "python",
   "pygments_lexer": "ipython3",
   "version": "3.7.4"
  }
 },
 "nbformat": 4,
 "nbformat_minor": 2
}
