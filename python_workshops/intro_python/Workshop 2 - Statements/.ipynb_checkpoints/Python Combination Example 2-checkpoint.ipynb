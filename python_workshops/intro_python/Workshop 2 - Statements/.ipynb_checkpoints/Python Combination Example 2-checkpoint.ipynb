{
 "cells": [
  {
   "cell_type": "code",
   "execution_count": 33,
   "metadata": {},
   "outputs": [],
   "source": [
    "import requests"
   ]
  },
  {
   "cell_type": "code",
   "execution_count": 47,
   "metadata": {},
   "outputs": [],
   "source": [
    "class ChampNames:\n",
    "    # Main function, this will run when you make the class.\n",
    "    def __init__(self):\n",
    "        print('Champ Names initialized.', end= '\\n\\n')\n",
    "    \n",
    "    def load():\n",
    "        resp_chmp = requests.get('http://ddragon.leagueoflegends.com/cdn/10.2.1/data/en_US/champion.json')\n",
    "        champName = resp_chmp.json()\n",
    "        champName = champName['data']\n",
    "        # print(champName)\n",
    "        return champName\n",
    "\n",
    "    # Prints the names in the dictionary list\n",
    "    def printNames(self, champName):\n",
    "        num = 0\n",
    "        for name in champName:\n",
    "            print(name, end=', ')\n",
    "            if len(name) > 3:\n",
    "                num += 1\n",
    "        print(num)  \n",
    "    \n",
    "    def runProgram(self):\n",
    "        champName = load()\n",
    "        type(champName) # this should print dictionary\n",
    "        printNames(champName)"
   ]
  },
  {
   "cell_type": "code",
   "execution_count": 46,
   "metadata": {},
   "outputs": [
    {
     "name": "stdout",
     "output_type": "stream",
     "text": [
      "Champ Names initialized.\n",
      "\n",
      "Aatrox, Ahri, Akali, Alistar, Amumu, Anivia, Annie, Aphelios, Ashe, AurelionSol, Azir, Bard, Blitzcrank, Brand, Braum, Caitlyn, Camille, Cassiopeia, Chogath, Corki, Darius, Diana, Draven, DrMundo, Ekko, Elise, Evelynn, Ezreal, Fiddlesticks, Fiora, Fizz, Galio, Gangplank, Garen, Gnar, Gragas, Graves, Hecarim, Heimerdinger, Illaoi, Irelia, Ivern, Janna, JarvanIV, Jax, Jayce, Jhin, Jinx, Kaisa, Kalista, Karma, Karthus, Kassadin, Katarina, Kayle, Kayn, Kennen, Khazix, Kindred, Kled, KogMaw, Leblanc, LeeSin, Leona, Lissandra, Lucian, Lulu, Lux, Malphite, Malzahar, Maokai, MasterYi, MissFortune, MonkeyKing, Mordekaiser, Morgana, Nami, Nasus, Nautilus, Neeko, Nidalee, Nocturne, Nunu, Olaf, Orianna, Ornn, Pantheon, Poppy, Pyke, Qiyana, Quinn, Rakan, Rammus, RekSai, Renekton, Rengar, Riven, Rumble, Ryze, Sejuani, Senna, Sett, Shaco, Shen, Shyvana, Singed, Sion, Sivir, Skarner, Sona, Soraka, Swain, Sylas, Syndra, TahmKench, Taliyah, Talon, Taric, Teemo, Thresh, Tristana, Trundle, Tryndamere, TwistedFate, Twitch, Udyr, Urgot, Varus, Vayne, Veigar, Velkoz, Vi, Viktor, Vladimir, Volibear, Warwick, Xayah, Xerath, XinZhao, Yasuo, Yorick, Yuumi, Zac, Zed, Ziggs, Zilean, Zoe, Zyra, 142\n"
     ]
    }
   ],
   "source": [
    "# Calling the class\n",
    "champNames = ChampNames()\n",
    "champNames.runProgram()"
   ]
  }
 ],
 "metadata": {
  "kernelspec": {
   "display_name": "Python 3",
   "language": "python",
   "name": "python3"
  },
  "language_info": {
   "codemirror_mode": {
    "name": "ipython",
    "version": 3
   },
   "file_extension": ".py",
   "mimetype": "text/x-python",
   "name": "python",
   "nbconvert_exporter": "python",
   "pygments_lexer": "ipython3",
   "version": "3.7.4"
  }
 },
 "nbformat": 4,
 "nbformat_minor": 2
}
