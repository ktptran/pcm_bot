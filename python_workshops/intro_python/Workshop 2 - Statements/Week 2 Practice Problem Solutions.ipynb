{
 "cells": [
  {
   "cell_type": "markdown",
   "metadata": {},
   "source": [
    "Problem 1: Write a Python program that prints all the numbers from 0 to 10 except 3 and 6."
   ]
  },
  {
   "cell_type": "code",
   "execution_count": null,
   "metadata": {},
   "outputs": [],
   "source": [
    "def one():\n",
    "    for i in range(0, 10):\n",
    "        if i != 3 and i != 6:\n",
    "            print(i)\n",
    "\n",
    "one()"
   ]
  },
  {
   "cell_type": "markdown",
   "metadata": {},
   "source": [
    "Problem 2: Write a Python program to guess a number between 1 to 9. Consider using the random module."
   ]
  },
  {
   "cell_type": "code",
   "execution_count": null,
   "metadata": {},
   "outputs": [],
   "source": [
    "### import random\n",
    "def two():\n",
    "    randNum = random.randint(1, 9)\n",
    "    guess = 0\n",
    "    guesses = 0\n",
    "    first = True\n",
    "    while guess != randNum:\n",
    "        guesses += 1\n",
    "        if first:\n",
    "            guess = int(input('What is your next guess? '))\n",
    "            first = False\n",
    "        else:\n",
    "            guess = int(input('That is incorrect. What is your next guess? '))\n",
    "\n",
    "    print(f'That is correct! The random number was {randNum}.', end = ' ')      \n",
    "    if guesses == 1:\n",
    "        print(\"You only took 1 guess, you're a natural!\")\n",
    "    else:\n",
    "        print(f\"You took {guesses} guesses!\")\n",
    "\n",
    "two()"
   ]
  },
  {
   "cell_type": "markdown",
   "metadata": {},
   "source": [
    "Problem 3: Write a Python program that iterates the integers from 1 to 50. For multiples of three print \"Fizz\" instead of the number and for the multiples of five print \"Buzz\". For ones that are both divisible by three and five print \"fizzbuzz\"."
   ]
  },
  {
   "cell_type": "code",
   "execution_count": 34,
   "metadata": {},
   "outputs": [
    {
     "name": "stdout",
     "output_type": "stream",
     "text": [
      "1\n",
      "2\n",
      "Fizz\n",
      "4\n",
      "Buzz\n",
      "Fizz\n",
      "7\n",
      "8\n",
      "Fizz\n",
      "Buzz\n",
      "11\n",
      "Fizz\n",
      "13\n",
      "14\n",
      "fizzbuzz\n",
      "16\n",
      "17\n",
      "Fizz\n",
      "19\n",
      "Buzz\n",
      "Fizz\n",
      "22\n",
      "23\n",
      "Fizz\n",
      "Buzz\n",
      "26\n",
      "Fizz\n",
      "28\n",
      "29\n",
      "fizzbuzz\n",
      "31\n",
      "32\n",
      "Fizz\n",
      "34\n",
      "Buzz\n",
      "Fizz\n",
      "37\n",
      "38\n",
      "Fizz\n",
      "Buzz\n",
      "41\n",
      "Fizz\n",
      "43\n",
      "44\n",
      "fizzbuzz\n",
      "46\n",
      "47\n",
      "Fizz\n",
      "49\n",
      "Buzz\n"
     ]
    }
   ],
   "source": [
    "def three():\n",
    "    for i in range(1, 51, 1):\n",
    "        if i % 3 == 0 and i % 5 == 0:\n",
    "            print(\"fizzbuzz\")\n",
    "        elif i % 5 == 0:\n",
    "            print(\"Buzz\")\n",
    "        elif i % 3 == 0:\n",
    "            print(\"Fizz\")\n",
    "        else:\n",
    "            print(i)\n",
    "\n",
    "three()"
   ]
  },
  {
   "cell_type": "markdown",
   "metadata": {},
   "source": [
    "Problem 4: Write a Python program to print the alphabet pattern 'D'."
   ]
  },
  {
   "cell_type": "code",
   "execution_count": 42,
   "metadata": {},
   "outputs": [
    {
     "name": "stdout",
     "output_type": "stream",
     "text": [
      "* * * *\n",
      "*       *\n",
      "*       *\n",
      "*       *\n",
      "* * * *\n"
     ]
    }
   ],
   "source": [
    "def four():\n",
    "    print('* * * *')\n",
    "    for i in range(3):\n",
    "        print('*       *')\n",
    "    print('* * * *')\n",
    "\n",
    "four()"
   ]
  },
  {
   "cell_type": "code",
   "execution_count": 41,
   "metadata": {},
   "outputs": [
    {
     "name": "stdout",
     "output_type": "stream",
     "text": [
      "* * * * *\n",
      "*\n",
      "*\n",
      "*\n",
      "* * * * *\n",
      "*\n",
      "*\n",
      "*\n",
      "* * * * *\n"
     ]
    }
   ],
   "source": [
    "def five():\n",
    "    for i in range(2):\n",
    "        print('* * * * *')\n",
    "        for i in range(3):\n",
    "            print('*')\n",
    "    print('* * * * *')\n",
    "\n",
    "five()"
   ]
  }
 ],
 "metadata": {
  "kernelspec": {
   "display_name": "Python 3",
   "language": "python",
   "name": "python3"
  },
  "language_info": {
   "codemirror_mode": {
    "name": "ipython",
    "version": 3
   },
   "file_extension": ".py",
   "mimetype": "text/x-python",
   "name": "python",
   "nbconvert_exporter": "python",
   "pygments_lexer": "ipython3",
   "version": "3.7.4"
  }
 },
 "nbformat": 4,
 "nbformat_minor": 2
}
