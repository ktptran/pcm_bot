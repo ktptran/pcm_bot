{
 "cells": [
  {
   "cell_type": "markdown",
   "metadata": {},
   "source": [
    "### Part 0: Importing Packages"
   ]
  },
  {
   "cell_type": "code",
   "execution_count": null,
   "metadata": {},
   "outputs": [],
   "source": [
    "import requests # getting info from API\n",
    "import json # type of data we're working with from requests\n",
    "import pandas as pd # sorting the data values"
   ]
  },
  {
   "cell_type": "markdown",
   "metadata": {},
   "source": [
    "### Part 1: Working with Requests Library"
   ]
  },
  {
   "cell_type": "markdown",
   "metadata": {},
   "source": [
    "https://developer.riotgames.com/docs/lol#data-dragon_champions    \n",
    "\n",
    "Within Riot's API for matches, the champions only have Ids and no names associated with them. \\\n",
    "Before we investigate the matches separately, we need to have a dataFrame of all of the champions associated with their id. \\\n",
    "Here, we will be introducing requests and how to use its functions."
   ]
  },
  {
   "cell_type": "code",
   "execution_count": null,
   "metadata": {},
   "outputs": [],
   "source": [
    "resp_chmp = requests.get('http://ddragon.leagueoflegends.com/cdn/10.9.1/data/en_US/champion.json')\n",
    "r3 = resp_chmp.json()\n",
    "r3 = r3['data']\n",
    "chmp_name = []\n",
    "for i in r3:\n",
    "    chmp_name.append(i)\n",
    "x = {}\n",
    "for i in range(len(r3)):\n",
    "    name = chmp_name[i]\n",
    "    x[i]= int(r3[name]['key'])\n",
    "chmp = pd.DataFrame(chmp_name, columns=['Name'])\n",
    "chmp = chmp.rename(index=x).sort_index()"
   ]
  },
  {
   "cell_type": "markdown",
   "metadata": {},
   "source": [
    "### Part 2: Extracting Data from API"
   ]
  },
  {
   "cell_type": "markdown",
   "metadata": {},
   "source": [
    "https://developer.riotgames.com/apis#summoner-v4\n",
    "\n",
    "**Task**: Retrieve the match numbers, champions, and lane assignments of the account supplied. Then, we'll extract it onto an Excel file"
   ]
  },
  {
   "cell_type": "code",
   "execution_count": null,
   "metadata": {},
   "outputs": [],
   "source": [
    "summonerName = \"Phume\"\n",
    "APIKey = \"RGAPI-8fb73227-2326-4228-9302-068cc55ffe4d\"\n",
    "URL = \"https://na1.api.riotgames.com/lol/summoner/v4/summoners/by-name/\" + summonerName + \"?api_key=\" + APIKey\n",
    "response = requests.get(URL)\n",
    "r1 = response.json()\n",
    "r1['accountId']"
   ]
  },
  {
   "cell_type": "code",
   "execution_count": null,
   "metadata": {},
   "outputs": [],
   "source": [
    "# Returning the accountId of a user using the summonerName and API Key supplied.\n",
    "# Inputs:\n",
    "#   summonerName: Name within League of Legends, case and character sensitive\n",
    "#   APIKey: API Key from Riot Games \n",
    "def accId(summonerName, APIKey):\n",
    "    URL = \"https://na1.api.riotgames.com/lol/summoner/v4/summoners/by-name/\" + summonerName + \"?api_key=\" + APIKey\n",
    "    response = requests.get(URL)\n",
    "    r1 = response.json()\n",
    "    return r1['accountId']"
   ]
  },
  {
   "cell_type": "code",
   "execution_count": null,
   "metadata": {},
   "outputs": [],
   "source": [
    "# Find the accountId to get all of the matches from the summoner.\n",
    "summonerName = (str)(input('Type your Summoner Name here and DO NOT INCLUDE ANY SPACES: '))\n",
    "APIKey = (str)(input('Copy and paste your API Key here: '))\n",
    "summ_accId = accId(summonerName, APIKey)\n",
    "URL = \"https://na1.api.riotgames.com/lol/match/v4/matchlists/by-account/\" + summ_accId + \"?api_key=\" + APIKey\n",
    "response = requests.get(URL)\n",
    "r1 = response.json()\n",
    "r1 = r1['matches']"
   ]
  },
  {
   "cell_type": "code",
   "execution_count": null,
   "metadata": {},
   "outputs": [],
   "source": [
    "matches = []\n",
    "champion = []\n",
    "lane = []\n",
    "for i in range(len(r1)):\n",
    "    matches.append(r1[i]['gameId'])\n",
    "    champ_id = r1[i]['champion']\n",
    "    champion.append(chmp.loc[champ_id, 'Name'])\n",
    "    lane.append(r1[i]['lane'])\n",
    "vals = {'matchId': matches, 'champion': champion, 'lane': lane}\n",
    "df = pd.DataFrame(vals)"
   ]
  },
  {
   "cell_type": "code",
   "execution_count": null,
   "metadata": {},
   "outputs": [],
   "source": [
    "file_path=r'matches.xlsx'\n",
    "stats=pd.ExcelWriter(file_path)\n",
    "df.to_excel(stats)\n",
    "stats.save()\n",
    "stats.close()"
   ]
  },
  {
   "cell_type": "markdown",
   "metadata": {},
   "source": [
    "### Intro to working with Game Data"
   ]
  },
  {
   "cell_type": "markdown",
   "metadata": {},
   "source": [
    "There are many other pieces of data you can look at. Next week we'll be looking at game data and combining everything we have learned to work with it."
   ]
  },
  {
   "cell_type": "code",
   "execution_count": null,
   "metadata": {},
   "outputs": [],
   "source": [
    "gameId = \"3225011906\"\n",
    "URL_mch = \"https://na1.api.riotgames.com/lol/match/v4/matches/\" + gameId + \"?api_key=\" + APIKey\n",
    "response = requests.get(URL_mch)\n",
    "r1 = response.json()\n",
    "r1 = r1['participants']\n",
    "r1"
   ]
  }
 ],
 "metadata": {
  "kernelspec": {
   "display_name": "Python 3",
   "language": "python",
   "name": "python3"
  },
  "language_info": {
   "codemirror_mode": {
    "name": "ipython",
    "version": 3
   },
   "file_extension": ".py",
   "mimetype": "text/x-python",
   "name": "python",
   "nbconvert_exporter": "python",
   "pygments_lexer": "ipython3",
   "version": "3.7.4"
  }
 },
 "nbformat": 4,
 "nbformat_minor": 2
}
