{
 "cells": [
  {
   "cell_type": "markdown",
   "metadata": {},
   "source": [
    "# Solutions to Practice Problems "
   ]
  },
  {
   "cell_type": "markdown",
   "metadata": {},
   "source": [
    "1. Make a program that prints out how many a characters there are in \"This is a sentence that contains the utmost atmosphere for all to do.\""
   ]
  },
  {
   "cell_type": "code",
   "execution_count": 2,
   "metadata": {},
   "outputs": [
    {
     "name": "stdout",
     "output_type": "stream",
     "text": [
      "In this sentence, there are 5 a characters.\n"
     ]
    }
   ],
   "source": [
    "sentence = \"This is a sentence that contains the utmost atmosphere for all to do.\"\n",
    "count = 0\n",
    "for character in range(len(sentence)):\n",
    "    if sentence[character] == 'a':\n",
    "        count += 1\n",
    "print(f\"In this sentence, there are {count} a characters.\")"
   ]
  },
  {
   "cell_type": "markdown",
   "metadata": {},
   "source": [
    "You want to parse through the sentence variable once to check through all the a values. Then, if that character is an a, you add that to your count."
   ]
  },
  {
   "cell_type": "markdown",
   "metadata": {},
   "source": [
    "2. Find all the unique characters in the sentence \"This is a sentence that has many animals, we have zebras, kangaroos, pandas, cheetahs, and more!\" Disregard capitalization in this problem."
   ]
  },
  {
   "cell_type": "code",
   "execution_count": 28,
   "metadata": {},
   "outputs": [
    {
     "name": "stdout",
     "output_type": "stream",
     "text": [
      "['w', 'a', 's', 'y', 't', 'n', ' ', 'b', '!', 'i', 'k', 'o', 'v', ',', 'l', 'h', 'r', 'p', 'm', 'd', 'c', 'z', 'e', 'g']\n",
      "There are 24 unique characters in the sentence.\n"
     ]
    }
   ],
   "source": [
    "sentence = \"This is a sentence that has many animals, we have zebras, kangaroos, pandas, cheetahs, and more!\"\n",
    "sentence = sentence.lower()\n",
    "unique = list(set(sentence))\n",
    "print(unique)\n",
    "print(f\"There are {len(unique)} unique characters in the sentence.\")"
   ]
  },
  {
   "cell_type": "markdown",
   "metadata": {},
   "source": [
    "A set is for unique values, so after we turn the string into a set, we'll have all the unique characters. To represent this, we then put it into a list."
   ]
  },
  {
   "cell_type": "markdown",
   "metadata": {},
   "source": [
    "3. Write an infinite loop. An infinite loop is one that never ends."
   ]
  },
  {
   "cell_type": "code",
   "execution_count": null,
   "metadata": {},
   "outputs": [],
   "source": [
    "while True:\n",
    "    print \"INFINITE\""
   ]
  },
  {
   "cell_type": "markdown",
   "metadata": {},
   "source": [
    "An infinite loop can only occur when the condition for a while loop is true. You cannot use a for loop here, as a for loop is always finite."
   ]
  },
  {
   "cell_type": "markdown",
   "metadata": {},
   "source": [
    "4. Take 10 integers from the user using a loop and print their average value on the screen"
   ]
  },
  {
   "cell_type": "code",
   "execution_count": 10,
   "metadata": {},
   "outputs": [
    {
     "name": "stdout",
     "output_type": "stream",
     "text": [
      "Enter number: 5\n",
      "Enter number: 6\n",
      "Enter number: 7\n",
      "Enter number: 8\n",
      "Enter number: 49\n",
      "Enter number: 10\n",
      "Enter number: 5\n",
      "Enter number: 6\n",
      "Enter number: 7\n",
      "Enter number: 8\n",
      "Average is 11.1\n"
     ]
    }
   ],
   "source": [
    "sumVal = 0\n",
    "i = 10\n",
    "while i > 0:\n",
    "    num = int(input(\"Enter number: \"))\n",
    "    sumVal += num\n",
    "    i = i - 1\n",
    "print(\"The average is\", sumVal / 10.0)"
   ]
  },
  {
   "cell_type": "markdown",
   "metadata": {},
   "source": [
    "You can use either a for loop or a while loop for this. TO get the value, you'll always need to prompt the user for a number until you have 10. Then, you'll calculate the average from their values"
   ]
  },
  {
   "cell_type": "markdown",
   "metadata": {},
   "source": [
    "5. Print a multiplication table (10 values) of any value inputted from the user. Can you print it altogether?"
   ]
  },
  {
   "cell_type": "code",
   "execution_count": 15,
   "metadata": {},
   "outputs": [
    {
     "name": "stdout",
     "output_type": "stream",
     "text": [
      "Enter value you want the multiplication table of: 5\n",
      "5  \n",
      "10  \n",
      "15  \n",
      "20  \n",
      "25  \n",
      "30  \n",
      "35  \n",
      "40  \n",
      "45  \n",
      "50  \n",
      "[5, 10, 15, 20, 25, 30, 35, 40, 45, 50]\n"
     ]
    }
   ],
   "source": [
    "x = int(input(\"Enter value you want the multiplication table of: \"))\n",
    "table = []\n",
    "i = 1\n",
    "while i <= 10:\n",
    "    table.append(x*i)\n",
    "    print(x*i)\n",
    "    i += 1\n",
    "print(table)"
   ]
  },
  {
   "cell_type": "markdown",
   "metadata": {},
   "source": [
    "We want to print out 10 values of a given input, so we'll use either a for loop or while loop to calculate these values. Here, instead of making another variable for the counter, we can use the loop counter to make the table."
   ]
  },
  {
   "cell_type": "markdown",
   "metadata": {},
   "source": [
    "6. Write a program to find the prime factor of a number. If a factor of a number is a prime number, then it is its prime factor."
   ]
  },
  {
   "cell_type": "code",
   "execution_count": 18,
   "metadata": {},
   "outputs": [
    {
     "name": "stdout",
     "output_type": "stream",
     "text": [
      "Enter number: 13\n",
      "13\n"
     ]
    }
   ],
   "source": [
    "number = int(input(\"Enter number: \"))\n",
    "i = 2\n",
    "while i <= number:\n",
    "    # Checking if prime or not\n",
    "    j = 2\n",
    "    count = 0\n",
    "    while j <= i:\n",
    "        if i % j == 0:\n",
    "            count = count + 1\n",
    "        j = j + 1\n",
    "    # if count > 1 then it is not prime\n",
    "    # if prime and factor(numbe%i==0) then it is a priume factor\n",
    "    if count <= 1 and number % i == 0:\n",
    "        print(i)\n",
    "    i = i + 1"
   ]
  },
  {
   "cell_type": "markdown",
   "metadata": {},
   "source": [
    "7. Access the value of key 'history' within:\n",
    "```\n",
    "sampleDict = {\n",
    "    \"class\": {\n",
    "        \"student\": {\n",
    "            \"name\": \"Mike\",\n",
    "            \"marks\": {\n",
    "                \"physics\": 70,\n",
    "                \"history\": 80\n",
    "            }\n",
    "        }\n",
    "    }\n",
    "}\n",
    "```"
   ]
  },
  {
   "cell_type": "code",
   "execution_count": 19,
   "metadata": {},
   "outputs": [
    {
     "name": "stdout",
     "output_type": "stream",
     "text": [
      "80\n"
     ]
    }
   ],
   "source": [
    "sampleDict = {\n",
    "    \"class\": {\n",
    "        \"student\": {\n",
    "            \"name\": \"Mike\",\n",
    "            \"marks\": {\n",
    "                \"physics\": 70,\n",
    "                \"history\": 80\n",
    "            }\n",
    "        }\n",
    "    }\n",
    "}\n",
    "print(sampleDict['class']['student']['marks']['history'])"
   ]
  },
  {
   "cell_type": "markdown",
   "metadata": {},
   "source": [
    "To reference any value within a key value pair, you'll need to use [ ] notation to get to the value"
   ]
  },
  {
   "cell_type": "markdown",
   "metadata": {},
   "source": [
    "8. Make a function to calculate the square value of a number, then use that value again to make the square of it."
   ]
  },
  {
   "cell_type": "code",
   "execution_count": 22,
   "metadata": {},
   "outputs": [
    {
     "name": "stdout",
     "output_type": "stream",
     "text": [
      "Enter a numerical value: 5\n",
      "The first square value is 25 and the square of that value is 625\n"
     ]
    }
   ],
   "source": [
    "def square(num):\n",
    "    # You could also do num * num\n",
    "    return num**2\n",
    "\n",
    "num = int(input(\"Enter a numerical value: \"))\n",
    "num_squared = square(num)\n",
    "square_squared = square(num_squared)\n",
    "print(f\"The first square value is {num_squared} and the square of that value is {square_squared}\")"
   ]
  },
  {
   "cell_type": "markdown",
   "metadata": {},
   "source": [
    "Since we want to make to square two numbers (more than once), we'll use a function and then call it twice with the returned output."
   ]
  },
  {
   "cell_type": "markdown",
   "metadata": {},
   "source": [
    "9. Rename the key city to location in the following dictionary\n",
    "```\n",
    "sampleDict = {\n",
    "  \"name\": \"Kelly\",\n",
    "  \"age\":25,\n",
    "  \"salary\": 8000,\n",
    "  \"city\": \"New york\"\n",
    "}\n",
    "```\n",
    "Expected Output:\n",
    "```\n",
    "{\n",
    "  \"name\": \"Kelly\",\n",
    "  \"age\":25,\n",
    "  \"salary\": 8000,\n",
    "  \"location\": \"New york\"\n",
    "}\n",
    "```"
   ]
  },
  {
   "cell_type": "code",
   "execution_count": 25,
   "metadata": {},
   "outputs": [
    {
     "name": "stdout",
     "output_type": "stream",
     "text": [
      "{'name': 'Kelly', 'age': 25, 'salary': 8000, 'location': 'New york'}\n"
     ]
    }
   ],
   "source": [
    "sampleDict = {\n",
    "\"name\": \"Kelly\",\n",
    "\"age\":25,\n",
    "\"salary\": 8000,\n",
    "\"city\": \"New york\"\n",
    "}\n",
    "sampleDict['location'] = sampleDict.pop('city')\n",
    "print(sampleDict)"
   ]
  },
  {
   "cell_type": "markdown",
   "metadata": {},
   "source": [
    "There is no way to edit the key once it is inputted. So, we'll need to pop or take that value out to get the value and then make a new key value with it."
   ]
  },
  {
   "cell_type": "markdown",
   "metadata": {},
   "source": [
    "10. Check if all items in the following tuple are the same\n",
    "```\n",
    "tuple1 = {45, 45, 45, 45}\n",
    "```\n",
    "Expected output: True"
   ]
  },
  {
   "cell_type": "code",
   "execution_count": 27,
   "metadata": {},
   "outputs": [
    {
     "name": "stdout",
     "output_type": "stream",
     "text": [
      "True\n"
     ]
    }
   ],
   "source": [
    "tuple1 = (45, 45, 45, 45)\n",
    "def check(sampleTuple):\n",
    "    return all(i == sampleTuple[0] for i in sampleTuple)\n",
    "print(check(tuple1))"
   ]
  },
  {
   "cell_type": "markdown",
   "metadata": {},
   "source": [
    "Here, we'll parse through the tuple and compare it to the first value every time. If one of them is false, then we'll get a value of false from the all function, but if all of them come out True, then we'll have true."
   ]
  }
 ],
 "metadata": {
  "kernelspec": {
   "display_name": "Python 3",
   "language": "python",
   "name": "python3"
  },
  "language_info": {
   "codemirror_mode": {
    "name": "ipython",
    "version": 3
   },
   "file_extension": ".py",
   "mimetype": "text/x-python",
   "name": "python",
   "nbconvert_exporter": "python",
   "pygments_lexer": "ipython3",
   "version": "3.7.4"
  }
 },
 "nbformat": 4,
 "nbformat_minor": 2
}
