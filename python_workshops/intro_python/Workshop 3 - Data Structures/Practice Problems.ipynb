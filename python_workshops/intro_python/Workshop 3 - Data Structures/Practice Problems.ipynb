{
 "cells": [
  {
   "cell_type": "code",
   "execution_count": 24,
   "metadata": {},
   "outputs": [
    {
     "name": "stdout",
     "output_type": "stream",
     "text": [
      "[3, 4, 6, 9, 10]\n",
      "[10, 9, 6, 4, 3]\n",
      "0: 10\n",
      "1: 9\n",
      "2: 6\n",
      "3: 4\n",
      "4: 3\n",
      "[4, 3]\n",
      "[9]\n",
      "[10, 9, 6, 4]\n",
      "9\n",
      "[10, 9, 6, 4, 3, 20, 25, 30]\n",
      "[10, 9, 6, 4, 3, 20, 30]\n",
      "3 30 82\n"
     ]
    },
    {
     "data": {
      "text/plain": [
       "(10, 9, 6, 4, 3, 20, 30)"
      ]
     },
     "execution_count": 24,
     "metadata": {},
     "output_type": "execute_result"
    }
   ],
   "source": [
    "# List exercises\n",
    "list_one = [3, 4, 6, 8, 9]\n",
    "list_one.remove(8)\n",
    "print(list_one) - [3, 4, 6, 9]\n",
    "list_one.append(10)\n",
    "print(list_one)\n",
    "list_one.sort()\n",
    "print(list_one)\n",
    "list_one.reverse()\n",
    "print(list_one)\n",
    "for index, value in enumerate(list_one):\n",
    "    print(f\"{index}: {value}\")\n",
    "print(list_one[3:])\n",
    "print(list_one[1:2])\n",
    "print(list_one[:4]) # to index 3 - inclusive\n",
    "print(list_one[1])\n",
    "1 in list_one\n",
    "list2 = [20, 25, 30]\n",
    "list_one.extend(list2)\n",
    "print(list_one)\n",
    "list_one.remove(25)\n",
    "print(list_one)\n",
    "print(min(list_one), max(list_one), sum(list_one))\n",
    "tuple(list_one)"
   ]
  },
  {
   "cell_type": "code",
   "execution_count": 34,
   "metadata": {},
   "outputs": [
    {
     "name": "stdout",
     "output_type": "stream",
     "text": [
      "(50, 40, 30, 20, 10)\n",
      "(50,)\n",
      "(10, 20, 30, 40)\n"
     ]
    }
   ],
   "source": [
    "# Tuple exercises\n",
    "aTuple = (10, 20, 30, 40, 50)\n",
    "aTuple = aTuple[::-1]\n",
    "print(aTuple)\n",
    "\n",
    "tupleVal = (50, )\n",
    "print(tupleVal)\n",
    "type(tupleVal)\n",
    "\n",
    "aTuple = (10, 20, 30, 40)\n",
    "a = aTuple[0]\n",
    "b = aTuple[1]\n",
    "c = aTuple[2]\n",
    "d = aTuple[3]\n",
    "print(f\"{a, b, c, d}\")"
   ]
  },
  {
   "cell_type": "code",
   "execution_count": 49,
   "metadata": {},
   "outputs": [
    {
     "name": "stdout",
     "output_type": "stream",
     "text": [
      "{3, 4, 6, 8, 9}\n",
      "{1, 2, 3, 4, 6, 8, 9}\n",
      "{8, 9, 6} {1, 2}\n",
      "7\n"
     ]
    }
   ],
   "source": [
    "# Sets\n",
    "sets = set()\n",
    "list_one = [3, 4, 6, 8, 9]\n",
    "for val in list_one:\n",
    "    sets.add(val)\n",
    "print(sets)\n",
    "\n",
    "sets_two = set()\n",
    "list_one = [1, 2, 3, 4]\n",
    "for val in list_one:\n",
    "    sets_two.add(val)\n",
    "print(sets.union(sets_two))\n",
    "print(sets.difference(sets_two), sets_two.difference(sets))\n",
    "\n",
    "for val in [1, 2, 3, 4]:\n",
    "    sets.add(val)\n",
    "print(len(sets))"
   ]
  },
  {
   "cell_type": "code",
   "execution_count": 71,
   "metadata": {},
   "outputs": [
    {
     "data": {
      "text/plain": [
       "{'summonerId': 'JwtBCvxZGX1GFh3VhmswLETTiAP_ZB74XdMYZ38HxFnfZBg',\n",
       " 'summonerName': 'biblee',\n",
       " 'leaguePoints': 363,\n",
       " 'rank': 'I',\n",
       " 'wins': 59,\n",
       " 'losses': 36,\n",
       " 'veteran': False,\n",
       " 'inactive': False,\n",
       " 'freshBlood': True,\n",
       " 'hotStreak': False}"
      ]
     },
     "execution_count": 71,
     "metadata": {},
     "output_type": "execute_result"
    }
   ],
   "source": [
    "# Dictionaries\n",
    "import requests, json\n",
    "key = \n",
    "response = requests.get('https://na1.api.riotgames.com/lol/league/v4/challengerleagues/by-queue/RANKED_FLEX_SR?api_key=' + key)\n",
    "r1 = response.json()\n",
    "json.dumps(r1)\n",
    "r1[\"entries\"][1]"
   ]
  }
 ],
 "metadata": {
  "kernelspec": {
   "display_name": "Python 3",
   "language": "python",
   "name": "python3"
  },
  "language_info": {
   "codemirror_mode": {
    "name": "ipython",
    "version": 3
   },
   "file_extension": ".py",
   "mimetype": "text/x-python",
   "name": "python",
   "nbconvert_exporter": "python",
   "pygments_lexer": "ipython3",
   "version": "3.7.4"
  }
 },
 "nbformat": 4,
 "nbformat_minor": 2
}
