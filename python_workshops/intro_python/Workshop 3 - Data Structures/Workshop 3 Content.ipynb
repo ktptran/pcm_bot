{
 "cells": [
  {
   "cell_type": "code",
   "execution_count": 20,
   "metadata": {},
   "outputs": [
    {
     "name": "stdout",
     "output_type": "stream",
     "text": [
      "Ashe\n",
      "Anivia\n",
      "Anivia\n",
      "['Ashe', 'Kennen']\n",
      "['Anivia']\n"
     ]
    },
    {
     "data": {
      "text/plain": [
       "False"
      ]
     },
     "execution_count": 20,
     "metadata": {},
     "output_type": "execute_result"
    }
   ],
   "source": [
    "# Finding values in list\n",
    "champs = [\"Ashe\", \"Kennen\", \"Anivia\"] # Enclosed by [] and values separated by comma\n",
    "\n",
    "len(champs) # similarly to strings, you can get the length by using len\n",
    "\n",
    "# How do we get the position of the different values?\n",
    "print(champs[0]) # Can access individually by their position, which is called an index - starts at zero\n",
    "print(champs[2]) # total length - 1 is the last index.\n",
    "print(champs[-1]) # starts at the end \n",
    "# print(champs[4]) # If you try to get an index out of the range then you get an index out of range error\n",
    "\n",
    "# What about a range of values?\n",
    "print(champs[0:2]) # same as print(courses[:2]) - assumes starting at start\n",
    "print(champs[2:]) # assumes all the way to the end\n",
    "\n",
    "# Finding values\n",
    "champs.index('Ashe') # By value - if it doesn't exist then you get an error\n",
    "'Art' in champs # seeing if its in courses - then we have True/False"
   ]
  },
  {
   "cell_type": "code",
   "execution_count": 24,
   "metadata": {},
   "outputs": [
    {
     "name": "stdout",
     "output_type": "stream",
     "text": [
      "['Sett', 'Ashe', 'Kennen', 'Anivia', 'Karma']\n",
      "[['Annie', 'Ashe'], 'Ashe', 'Kennen', 'Anivia']\n",
      "['Ashe', 'Kennen', 'Anivia', 'Annie', 'Ashe']\n"
     ]
    }
   ],
   "source": [
    "# Inserting values into a list\n",
    "champs = [\"Ashe\", \"Kennen\", \"Anivia\"]\n",
    "champs.append('Karma') # Add at the end of the list\n",
    "champs.insert(0, 'Sett') # insert method - index, value\n",
    "print(champs)\n",
    "\n",
    "# Want to insert a list in a list?\n",
    "champs = [\"Ashe\", \"Kennen\", \"Anivia\"]\n",
    "champs_2 = [\"Annie\", 'Ashe']\n",
    "champs.insert(0, champs_2) # adds in the entire list, but you get a list within a list\n",
    "print(champs)\n",
    "\n",
    "champs = [\"Ashe\", \"Kennen\", \"Anivia\"]\n",
    "champs.extend(champs_2) # Added values of the list to the end of the list\n",
    "print(champs)"
   ]
  },
  {
   "cell_type": "code",
   "execution_count": 29,
   "metadata": {},
   "outputs": [
    {
     "name": "stdout",
     "output_type": "stream",
     "text": [
      "1 5 11\n"
     ]
    }
   ],
   "source": [
    "# Removing values\n",
    "# champs.remove('Ashe') # Remove by value\n",
    "popped = champs.pop() # removes last value of list & stores it\n",
    "champs.reverse() # Reverse list\n",
    "champs.sort() # Sorting list - a-Z, min-max\n",
    "champs.sort(reverse=True) # sort method by reversing, you can also do that in one method too\n",
    "sorted_champs = sorted(champs) # if you don't want to change the normal list\n",
    "\n",
    "# Statistical functions\n",
    "val = [5, 3, 2, 1]\n",
    "print(min(val), max(val), sum(val))\n",
    "\n"
   ]
  },
  {
   "cell_type": "code",
   "execution_count": 48,
   "metadata": {},
   "outputs": [
    {
     "name": "stdout",
     "output_type": "stream",
     "text": [
      "Ashe\n",
      "Kennen\n",
      "Anivia\n"
     ]
    },
    {
     "ename": "TypeError",
     "evalue": "'index' is an invalid keyword argument for enumerate()",
     "output_type": "error",
     "traceback": [
      "\u001b[0;31m---------------------------------------------------------------------------\u001b[0m",
      "\u001b[0;31mTypeError\u001b[0m                                 Traceback (most recent call last)",
      "\u001b[0;32m<ipython-input-48-cf486391cb2e>\u001b[0m in \u001b[0;36m<module>\u001b[0;34m\u001b[0m\n\u001b[1;32m      5\u001b[0m \u001b[0;34m\u001b[0m\u001b[0m\n\u001b[1;32m      6\u001b[0m \u001b[0;31m# For loop with index and course\u001b[0m\u001b[0;34m\u001b[0m\u001b[0;34m\u001b[0m\u001b[0;34m\u001b[0m\u001b[0m\n\u001b[0;32m----> 7\u001b[0;31m \u001b[0;32mfor\u001b[0m \u001b[0mindex\u001b[0m\u001b[0;34m,\u001b[0m \u001b[0mchamp\u001b[0m \u001b[0;32min\u001b[0m \u001b[0menumerate\u001b[0m\u001b[0;34m(\u001b[0m\u001b[0mchamps\u001b[0m\u001b[0;34m,\u001b[0m \u001b[0mindex\u001b[0m\u001b[0;34m=\u001b[0m\u001b[0;36m1\u001b[0m\u001b[0;34m)\u001b[0m\u001b[0;34m:\u001b[0m\u001b[0;34m\u001b[0m\u001b[0;34m\u001b[0m\u001b[0m\n\u001b[0m\u001b[1;32m      8\u001b[0m     \u001b[0mprint\u001b[0m\u001b[0;34m(\u001b[0m\u001b[0mindex\u001b[0m\u001b[0;34m,\u001b[0m \u001b[0mchamp\u001b[0m\u001b[0;34m)\u001b[0m\u001b[0;34m\u001b[0m\u001b[0;34m\u001b[0m\u001b[0m\n",
      "\u001b[0;31mTypeError\u001b[0m: 'index' is an invalid keyword argument for enumerate()"
     ]
    }
   ],
   "source": [
    "champs = [\"Ashe\", \"Kennen\", \"Anivia\"]\n",
    "# For loops - just the item\n",
    "for champ in champs:\n",
    "    print(champ)\n",
    "\n",
    "# For loop with index and course\n",
    "for index, champ in enumerate(champs):\n",
    "    print(index, champ)"
   ]
  },
  {
   "cell_type": "code",
   "execution_count": 45,
   "metadata": {},
   "outputs": [],
   "source": [
    "champs = [\"Ashe\", \"Kennen\", \"Anivia\"]\n",
    "val = champs.remove('Ashe')"
   ]
  },
  {
   "cell_type": "code",
   "execution_count": 49,
   "metadata": {},
   "outputs": [
    {
     "name": "stdout",
     "output_type": "stream",
     "text": [
      "Ashe, Kennen, Anivia\n",
      "['Ashe, Kennen, Anivia']\n"
     ]
    }
   ],
   "source": [
    "# Turns list of courses into string version\n",
    "champs_str = \", \".join(champs)\n",
    "print(champs_str)\n",
    "# String into list\n",
    "new_list = champs_str.split(' - ')\n",
    "print(new_list)"
   ]
  },
  {
   "cell_type": "code",
   "execution_count": 1,
   "metadata": {},
   "outputs": [
    {
     "name": "stdout",
     "output_type": "stream",
     "text": [
      "['Art', 'Math', 'Physics', 'CompSci']\n",
      "['Art', 'Math', 'Physics', 'CompSci']\n"
     ]
    }
   ],
   "source": [
    "# Tuples - similar to list, cannot modify tuples, so it is immutable, compared to lists which are mutable\n",
    "list_1 = ['History', 'Math', 'Physics', 'CompSci']\n",
    "list_2 = list_1\n",
    "\n",
    "list_1[0] = 'Art' \n",
    "\n",
    "print(list_1)\n",
    "print(list_2)"
   ]
  },
  {
   "cell_type": "code",
   "execution_count": 36,
   "metadata": {},
   "outputs": [
    {
     "ename": "TypeError",
     "evalue": "'tuple' object does not support item assignment",
     "output_type": "error",
     "traceback": [
      "\u001b[0;31m---------------------------------------------------------------------------\u001b[0m",
      "\u001b[0;31mTypeError\u001b[0m                                 Traceback (most recent call last)",
      "\u001b[0;32m<ipython-input-36-c0c7a72598d0>\u001b[0m in \u001b[0;36m<module>\u001b[0;34m\u001b[0m\n\u001b[1;32m      2\u001b[0m \u001b[0;31m# If you just need to list through something then you use a tuple\u001b[0m\u001b[0;34m\u001b[0m\u001b[0;34m\u001b[0m\u001b[0;34m\u001b[0m\u001b[0m\n\u001b[1;32m      3\u001b[0m \u001b[0mtuple_1\u001b[0m \u001b[0;34m=\u001b[0m \u001b[0;34m(\u001b[0m\u001b[0;34m'History'\u001b[0m\u001b[0;34m,\u001b[0m \u001b[0;34m'Math'\u001b[0m\u001b[0;34m,\u001b[0m \u001b[0;34m'Physics'\u001b[0m\u001b[0;34m,\u001b[0m \u001b[0;34m'CompSci'\u001b[0m\u001b[0;34m)\u001b[0m\u001b[0;34m\u001b[0m\u001b[0;34m\u001b[0m\u001b[0m\n\u001b[0;32m----> 4\u001b[0;31m \u001b[0mtuple_1\u001b[0m\u001b[0;34m[\u001b[0m\u001b[0;36m0\u001b[0m\u001b[0;34m]\u001b[0m \u001b[0;34m=\u001b[0m \u001b[0;34m'Art'\u001b[0m \u001b[0;31m# gives an error since you cant remove/edit anything\u001b[0m\u001b[0;34m\u001b[0m\u001b[0;34m\u001b[0m\u001b[0m\n\u001b[0m",
      "\u001b[0;31mTypeError\u001b[0m: 'tuple' object does not support item assignment"
     ]
    }
   ],
   "source": [
    "# You can do the same thing as lists except for modifying\n",
    "# If you just need to list through something then you use a tuple\n",
    "tuple_1 = ('History', 'Math', 'Physics', 'CompSci')\n",
    "tuple_1[0] = 'Art' # gives an error since you cant remove/edit anything"
   ]
  },
  {
   "cell_type": "code",
   "execution_count": 37,
   "metadata": {},
   "outputs": [
    {
     "name": "stdout",
     "output_type": "stream",
     "text": [
      "{'Anivia', 'Ashe', 'Kennen'}\n"
     ]
    }
   ],
   "source": [
    "# Sets\n",
    "# Unlike lists/tuples - no order - main uses for set is to read duplicate values. Used for uniqueness\n",
    "champs={'Ashe', 'Kennen', 'Anivia'}\n",
    "champs.add('Ashe')\n",
    "print(champs)"
   ]
  },
  {
   "cell_type": "code",
   "execution_count": 50,
   "metadata": {},
   "outputs": [
    {
     "name": "stdout",
     "output_type": "stream",
     "text": [
      "{'Physics', 'CompSci'}\n",
      "{'Math', 'History', 'Design', 'Physics', 'CompSci', 'Art'}\n"
     ]
    }
   ],
   "source": [
    "cs_courses = {'History', 'Math', 'Physics', 'CompSci'}\n",
    "art_courses = {'History', 'Math', 'Art', 'Design'}\n",
    "# Difference\n",
    "print(cs_courses.difference(art_courses))\n",
    "print(cs_courses.union(art_courses))"
   ]
  },
  {
   "cell_type": "code",
   "execution_count": 39,
   "metadata": {},
   "outputs": [],
   "source": [
    "# How to define\n",
    "empty_list = []\n",
    "empty_list = list()\n",
    "empty_tuple = ()\n",
    "empty_tuple = tuple()\n",
    "empty_set = {} # will actually define a dictionary\n",
    "empty_set = set()"
   ]
  },
  {
   "cell_type": "code",
   "execution_count": 52,
   "metadata": {},
   "outputs": [
    {
     "name": "stdout",
     "output_type": "stream",
     "text": [
      "{'name': 'John', 'age': 25, 'courses': ['Math', 'CompSci']}\n",
      "John\n",
      "['Math', 'CompSci']\n",
      "['Math', 'CompSci']\n",
      "None\n",
      "Not Found\n"
     ]
    }
   ],
   "source": [
    "# Key-Valued Pairs\n",
    "    # Key = word\n",
    "    # Definition = Value\n",
    "student = {'name': 'John', 'age': 25, 'courses': ['Math', 'CompSci']}\n",
    "\n",
    "# keys and values can be anything\n",
    "print(student)\n",
    "print(student['name'])\n",
    "print(student['courses'])\n",
    "print(student.get('courses'))\n",
    "# print(student['keysss']) # error as it doesn't exist\n",
    "print(student.get('phone')) # Returns None if there is an error\n",
    "print(student.get('phone', 'Not Found')) # prints Not Found instead"
   ]
  },
  {
   "cell_type": "code",
   "execution_count": 44,
   "metadata": {},
   "outputs": [],
   "source": [
    "# Updating value - if it is already in there then it will be rewritten\n",
    "student['phone'] = '555-5555' \n",
    "\n",
    "# Updates multiple values with one statement\n",
    "student.update({'name': 'Jane', 'age': 26})\n",
    "# Deleting a key\n",
    "# del student['age'] # delete without any access\n",
    "age = student.pop('age') # to get the value"
   ]
  },
  {
   "cell_type": "code",
   "execution_count": 53,
   "metadata": {},
   "outputs": [
    {
     "name": "stdout",
     "output_type": "stream",
     "text": [
      "3\n",
      "dict_keys(['name', 'age', 'courses'])\n",
      "dict_values(['John', 25, ['Math', 'CompSci']])\n",
      "dict_items([('name', 'John'), ('age', 25), ('courses', ['Math', 'CompSci'])])\n",
      "name\n",
      "age\n",
      "courses\n",
      "name John\n",
      "age 25\n",
      "courses ['Math', 'CompSci']\n"
     ]
    }
   ],
   "source": [
    "# looping through all keys\n",
    "print(len(student)) # three keys\n",
    "print(student.keys()) # all of the keys\n",
    "print(student.values()) # only values\n",
    "print(student.items()) # pairs of KVP\n",
    "\n",
    "for key in student:\n",
    "    print(key)\n",
    "    \n",
    "for key, value in student.items():\n",
    "    print(key, value)"
   ]
  }
 ],
 "metadata": {
  "kernelspec": {
   "display_name": "Python 3",
   "language": "python",
   "name": "python3"
  },
  "language_info": {
   "codemirror_mode": {
    "name": "ipython",
    "version": 3
   },
   "file_extension": ".py",
   "mimetype": "text/x-python",
   "name": "python",
   "nbconvert_exporter": "python",
   "pygments_lexer": "ipython3",
   "version": "3.7.4"
  }
 },
 "nbformat": 4,
 "nbformat_minor": 2
}
